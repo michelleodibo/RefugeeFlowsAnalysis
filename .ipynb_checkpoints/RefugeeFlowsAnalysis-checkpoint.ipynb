{
 "cells": [
  {
   "cell_type": "code",
   "execution_count": 1,
   "id": "da311b9e-06b4-4df4-a3fd-276263234866",
   "metadata": {},
   "outputs": [
    {
     "name": "stdout",
     "output_type": "stream",
     "text": [
      "[WinError 3] The system cannot find the path specified: '/full/path/to/RefugeeFlowsAnalysis'\n",
      "C:\\Users\\odibs\\RefugeeFlowsAnalysis\n"
     ]
    }
   ],
   "source": [
    "cd /full/path/to/RefugeeFlowsAnalysis"
   ]
  },
  {
   "cell_type": "code",
   "execution_count": 2,
   "id": "452ae229-6d65-482a-be1d-26414f7d66ef",
   "metadata": {},
   "outputs": [
    {
     "name": "stdout",
     "output_type": "stream",
     "text": [
      "C:\\Users\\odibs\\RefugeeFlowsAnalysis\n"
     ]
    }
   ],
   "source": [
    "%cd C:\\Users\\odibs\\RefugeeFlowsAnalysis"
   ]
  },
  {
   "cell_type": "code",
   "execution_count": 4,
   "id": "51dc7695-661f-4f4e-b592-9274080e096a",
   "metadata": {},
   "outputs": [
    {
     "ename": "SyntaxError",
     "evalue": "invalid syntax (2830201818.py, line 1)",
     "output_type": "error",
     "traceback": [
      "  \u001b[36mCell\u001b[39m\u001b[36m \u001b[39m\u001b[32mIn[4]\u001b[39m\u001b[32m, line 1\u001b[39m\n\u001b[31m    \u001b[39m\u001b[31mgit init\u001b[39m\n        ^\n\u001b[31mSyntaxError\u001b[39m\u001b[31m:\u001b[39m invalid syntax\n"
     ]
    }
   ],
   "source": [
    "git init"
   ]
  },
  {
   "cell_type": "code",
   "execution_count": 5,
   "id": "ac8fd90c-9cbe-4738-af8f-26f2ba3568f0",
   "metadata": {},
   "outputs": [
    {
     "data": {
      "text/plain": [
       "'C:\\\\Users\\\\odibs\\\\RefugeeFlowsAnalysis'"
      ]
     },
     "execution_count": 5,
     "metadata": {},
     "output_type": "execute_result"
    }
   ],
   "source": [
    "import os\n",
    "os.getcwd()"
   ]
  },
  {
   "cell_type": "code",
   "execution_count": 6,
   "id": "f269add6-6a51-4d47-a8a9-f38e90e7c0d6",
   "metadata": {},
   "outputs": [
    {
     "data": {
      "text/plain": [
       "'C:\\\\Users\\\\odibs\\\\RefugeeFlowsAnalysis'"
      ]
     },
     "execution_count": 6,
     "metadata": {},
     "output_type": "execute_result"
    }
   ],
   "source": [
    "import os\n",
    "os.getcwd()"
   ]
  },
  {
   "cell_type": "code",
   "execution_count": null,
   "id": "3d26ff95-c743-4338-81bd-2e2317a81538",
   "metadata": {},
   "outputs": [],
   "source": []
  }
 ],
 "metadata": {
  "kernelspec": {
   "display_name": "Python 3 (ipykernel)",
   "language": "python",
   "name": "python3"
  },
  "language_info": {
   "codemirror_mode": {
    "name": "ipython",
    "version": 3
   },
   "file_extension": ".py",
   "mimetype": "text/x-python",
   "name": "python",
   "nbconvert_exporter": "python",
   "pygments_lexer": "ipython3",
   "version": "3.13.2"
  }
 },
 "nbformat": 4,
 "nbformat_minor": 5
}
